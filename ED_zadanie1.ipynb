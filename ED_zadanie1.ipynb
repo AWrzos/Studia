{
 "cells": [
  {
   "cell_type": "markdown",
   "id": "77321a57-b6bd-4569-bd73-737a0886be42",
   "metadata": {},
   "source": [
    "# Wczytanie bibliotek i danych"
   ]
  },
  {
   "cell_type": "code",
   "execution_count": 1,
   "id": "d4ef89c7-f50b-493d-9e73-aae9df5d7b4c",
   "metadata": {},
   "outputs": [],
   "source": [
    "import pandas as pd\n",
    "import matplotlib.pyplot as plt\n",
    "import numpy as np"
   ]
  },
  {
   "cell_type": "code",
   "execution_count": 2,
   "id": "3092f1e4-e5f1-4bbf-beb8-5b4dcb6d5eb5",
   "metadata": {},
   "outputs": [],
   "source": [
    "df = pd.read_csv('data1.csv', header=None, names= ['data1'])"
   ]
  },
  {
   "cell_type": "code",
   "execution_count": 3,
   "id": "3319fac0-13b3-4e47-b231-4367a475a6c3",
   "metadata": {},
   "outputs": [
    {
     "data": {
      "text/html": [
       "<div>\n",
       "<style scoped>\n",
       "    .dataframe tbody tr th:only-of-type {\n",
       "        vertical-align: middle;\n",
       "    }\n",
       "\n",
       "    .dataframe tbody tr th {\n",
       "        vertical-align: top;\n",
       "    }\n",
       "\n",
       "    .dataframe thead th {\n",
       "        text-align: right;\n",
       "    }\n",
       "</style>\n",
       "<table border=\"1\" class=\"dataframe\">\n",
       "  <thead>\n",
       "    <tr style=\"text-align: right;\">\n",
       "      <th></th>\n",
       "      <th>data1</th>\n",
       "    </tr>\n",
       "  </thead>\n",
       "  <tbody>\n",
       "    <tr>\n",
       "      <th>0</th>\n",
       "      <td>587.55</td>\n",
       "    </tr>\n",
       "    <tr>\n",
       "      <th>1</th>\n",
       "      <td>587.55</td>\n",
       "    </tr>\n",
       "    <tr>\n",
       "      <th>2</th>\n",
       "      <td>827.10</td>\n",
       "    </tr>\n",
       "    <tr>\n",
       "      <th>3</th>\n",
       "      <td>70.81</td>\n",
       "    </tr>\n",
       "    <tr>\n",
       "      <th>4</th>\n",
       "      <td>81.02</td>\n",
       "    </tr>\n",
       "  </tbody>\n",
       "</table>\n",
       "</div>"
      ],
      "text/plain": [
       "    data1\n",
       "0  587.55\n",
       "1  587.55\n",
       "2  827.10\n",
       "3   70.81\n",
       "4   81.02"
      ]
     },
     "execution_count": 3,
     "metadata": {},
     "output_type": "execute_result"
    }
   ],
   "source": [
    "df.head()"
   ]
  },
  {
   "cell_type": "code",
   "execution_count": 4,
   "id": "d93807b1-2c29-4cb9-885b-7061e67fc6b6",
   "metadata": {
    "tags": []
   },
   "outputs": [
    {
     "name": "stdout",
     "output_type": "stream",
     "text": [
      "<class 'pandas.core.frame.DataFrame'>\n",
      "RangeIndex: 101 entries, 0 to 100\n",
      "Data columns (total 1 columns):\n",
      " #   Column  Non-Null Count  Dtype  \n",
      "---  ------  --------------  -----  \n",
      " 0   data1   86 non-null     float64\n",
      "dtypes: float64(1)\n",
      "memory usage: 936.0 bytes\n"
     ]
    }
   ],
   "source": [
    "df.info()"
   ]
  },
  {
   "cell_type": "markdown",
   "id": "704dc58b-29f8-4cbe-a658-501bed459d1f",
   "metadata": {},
   "source": [
    "W danych mamy jedną kolumnę ze 101 wpisami, w których 15 to brakujące wartości."
   ]
  },
  {
   "cell_type": "markdown",
   "id": "f85e8b0f-c9d9-499d-9d20-d3ef99fff3c5",
   "metadata": {},
   "source": [
    "# Punkt 1"
   ]
  },
  {
   "cell_type": "code",
   "execution_count": 5,
   "id": "b7475f30-6b12-428c-b366-494a65c89830",
   "metadata": {},
   "outputs": [],
   "source": [
    "df1 = df.dropna()"
   ]
  },
  {
   "cell_type": "code",
   "execution_count": 6,
   "id": "d19277a3-a64a-43be-84b5-f2f15b3c5fcf",
   "metadata": {
    "tags": []
   },
   "outputs": [
    {
     "name": "stdout",
     "output_type": "stream",
     "text": [
      "data1    411.18314\n",
      "dtype: float64\n",
      "data1    257.607271\n",
      "dtype: float64\n"
     ]
    }
   ],
   "source": [
    "mean_value1 = df1.mean()\n",
    "std1 = df1.std()\n",
    "print(mean_value1)\n",
    "print(std1)"
   ]
  },
  {
   "cell_type": "code",
   "execution_count": 7,
   "id": "76635eb4-2547-4018-85a8-0ad9579d684a",
   "metadata": {},
   "outputs": [
    {
     "data": {
      "image/png": "[encoded data removed]",
      "text/plain": [
       "<Figure size 576x360 with 1 Axes>"
      ]
     },
     "metadata": {
      "needs_background": "light"
     },
     "output_type": "display_data"
    }
   ],
   "source": [
    "fig, ax = plt.subplots(figsize=(8, 5))\n",
    "h_vals, h_bins, h_bars = ax.hist(df1[\"data1\"], edgecolor=\"white\")\n",
    "ax.set_xticks(h_bins)\n",
    "plt.show()"
   ]
  },
  {
   "cell_type": "markdown",
   "id": "1583f862-d2b7-4083-b162-f4cbc6d5fcd7",
   "metadata": {},
   "source": [
    "# Punkt 2"
   ]
  },
  {
   "cell_type": "code",
   "execution_count": 8,
   "id": "8b3ebb6b-9d06-433f-b2b8-c97c6aa6a294",
   "metadata": {},
   "outputs": [],
   "source": [
    "df2 = df.fillna(value = mean_value1)"
   ]
  },
  {
   "cell_type": "code",
   "execution_count": 9,
   "id": "cb653fef-e61f-4e10-ac3c-2681efc78f12",
   "metadata": {
    "tags": []
   },
   "outputs": [
    {
     "name": "stdout",
     "output_type": "stream",
     "text": [
      "data1    411.18314\n",
      "dtype: float64\n",
      "data1    237.502169\n",
      "dtype: float64\n"
     ]
    }
   ],
   "source": [
    "mean_value2 = df2.mean()\n",
    "std2 = df2.std()\n",
    "print(mean_value2)\n",
    "print(std2)"
   ]
  },
  {
   "cell_type": "code",
   "execution_count": 10,
   "id": "c7f00bcf-aacb-4686-8bf0-fadf6bb5523e",
   "metadata": {},
   "outputs": [
    {
     "data": {
      "image/png": "[encoded data removed]",
      "text/plain": [
       "<Figure size 576x360 with 1 Axes>"
      ]
     },
     "metadata": {
      "needs_background": "light"
     },
     "output_type": "display_data"
    }
   ],
   "source": [
    "fig, ax = plt.subplots(figsize=(8, 5))\n",
    "h_vals, h_bins, h_bars = ax.hist(df2[\"data1\"], edgecolor=\"white\")\n",
    "ax.set_xticks(h_bins)\n",
    "plt.show()"
   ]
  },
  {
   "cell_type": "markdown",
   "id": "aa426fe9-a13a-4b54-8bcb-532bc046606d",
   "metadata": {},
   "source": [
    "# Punkt 3"
   ]
  },
  {
   "cell_type": "code",
   "execution_count": 11,
   "id": "af7267c4-1ab2-438d-97b2-91528154c6b5",
   "metadata": {},
   "outputs": [],
   "source": [
    "df3 = df.applymap(lambda l: l if not np.isnan(l) else np.random.choice(df1['data1']))"
   ]
  },
  {
   "cell_type": "code",
   "execution_count": 12,
   "id": "ce3560a7-f1b4-452b-a948-73c1d8929ba7",
   "metadata": {},
   "outputs": [
    {
     "name": "stdout",
     "output_type": "stream",
     "text": [
      "data1    401.866733\n",
      "dtype: float64\n",
      "data1    254.95474\n",
      "dtype: float64\n"
     ]
    }
   ],
   "source": [
    "mean_value3 = df3.mean()\n",
    "std3 = df3.std()\n",
    "print(mean_value3)\n",
    "print(std3)"
   ]
  },
  {
   "cell_type": "code",
   "execution_count": 13,
   "id": "5c396310-7e63-4742-891a-48b19665e135",
   "metadata": {},
   "outputs": [
    {
     "data": {
      "image/png": "[encoded data removed]",
      "text/plain": [
       "<Figure size 576x360 with 1 Axes>"
      ]
     },
     "metadata": {
      "needs_background": "light"
     },
     "output_type": "display_data"
    }
   ],
   "source": [
    "fig, ax = plt.subplots(figsize=(8, 5))\n",
    "h_vals, h_bins, h_bars = ax.hist(df3[\"data1\"], edgecolor=\"white\")\n",
    "ax.set_xticks(h_bins)\n",
    "plt.show()"
   ]
  },
  {
   "cell_type": "markdown",
   "id": "39fac81c-275e-437f-9726-9e3c4bd53352",
   "metadata": {},
   "source": [
    "# Porównanie średniej i odchylenia standardowego"
   ]
  },
  {
   "cell_type": "markdown",
   "id": "631cc4a3-7874-4f66-a830-f7b1b4c1e65a",
   "metadata": {
    "tags": []
   },
   "source": [
    "Jak możemy zauważyć, średnia z punktu 1 jest taka sama jak średnia z punktu 2, ponieważ `NaN` zastąpiliśmy średnią z wierszy bez brakujących wartości. Dodanie kolejnych wartości, które są średnią nie zmieni średniej. W punkcie 3 średnia jest różna od poprzednich punktów. Może być większa albo mniejsza w zależności od tego jak się wylosują wartości z podanego rozkładu. Jeśli wylosuje się więcej wartości większych od średniej bez brakujących wartości z punktu pierwszego to średnia wzrośnie, a jeśli mniejsze wartości to średnia się zmniejszy. Odchylenie standardowe w punkcie 2 jest mniejsze niż w punkcie 1, ponieważ dodaliśmy średnią za brakujące wartości. Zwiększona liczba wartości w środku rozkładu (średniej) zmniejsza nam odchylenie, ponieważ rozkład ten jest bardziej skupiony wokół tej średniej. W trzecim punkcie odchylenie standardowe jest większe niż w punkcie 2 ale może być mniejsze, równe bądź większe od odchylenia standardowego z punktu 1. Wszystko zależy od tego jakie wartości wylosujemy. Jeśli będzie dużo wartości z jednego bądź drugiego końca rozkładu to wartość będzie większa, a jeśli blisko średniej z poprzednich punktów, wtedy mniejsze niż w punkcie 1. Szanse są bardzo niewielkie, żeby odchylenie standardowe z punktu 3 było równe temu z punktu 2, ponieważ każda wartość zastępująca wartość brakującą musiałaby wylosować się jako średnia z poprzednich punktów."
   ]
  },
  {
   "cell_type": "markdown",
   "id": "75f6291b-1b2c-4939-8443-a45c8de03169",
   "metadata": {},
   "source": [
    "# Porównanie histogramów"
   ]
  },
  {
   "cell_type": "markdown",
   "id": "7f992e6f-236d-4766-8b01-731e4ef0cdd2",
   "metadata": {},
   "source": [
    "Każdy histogram przedstawia rozkład zmiennej podzielony na 10 przedziałów. Liczebności tych przedziałów różnią się w zależności od punktu. W pierwszym, w którym usunęliśmy wartości brakujące najliczniejszy jest przedział pierwszy `[31.1; 119.5]`. W drugim rozkładzie najliczniejszy jest przedział, który zawiera średnią, ponieważ wartości brakujące zastąpiliśmy właśnie tą średnią `[384.6; 473]`. W trzecim przypadku każdy z przedziałów może być najliczniejszy w zależności od wylosowanych liczb."
   ]
  }
 ],
 "metadata": {
  "kernelspec": {
   "display_name": "Python 3 (ipykernel)",
   "language": "python",
   "name": "python3"
  },
  "language_info": {
   "codemirror_mode": {
    "name": "ipython",
    "version": 3
   },
   "file_extension": ".py",
   "mimetype": "text/x-python",
   "name": "python",
   "nbconvert_exporter": "python",
   "pygments_lexer": "ipython3",
   "version": "3.9.13"
  }
 },
 "nbformat": 4,
 "nbformat_minor": 5
}
